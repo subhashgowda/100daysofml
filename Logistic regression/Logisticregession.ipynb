{
 "cells": [
  {
   "cell_type": "code",
   "execution_count": 1,
   "metadata": {},
   "outputs": [
    {
     "data": {
      "text/plain": [
       "\"This dataset contains information of users in a social network.\\nThose informations are the user id the gender the age and the estimated salary. A car company has just launched their\\nbrand new luxury SUV. And we're trying to see which of these users of the social network are \\ngoing to buy this brand new SUV And the last column here tells If yes or no the user bought this \\nSUV we are going to build a model that is going to predict if a user is going to buy or not the SUV based on two \\nvariables which are going to be the age and the estimated salary. So our matrix of feature is only going to be these two \\ncolumns. We want to find some correlations between the age and the estimated salary of a user and his decision to\\npurchase yes or no the SUV.\""
      ]
     },
     "execution_count": 1,
     "metadata": {},
     "output_type": "execute_result"
    }
   ],
   "source": [
    "\"\"\"This dataset contains information of users in a social network.\n",
    "Those informations are the user id the gender the age and the estimated salary. A car company has just launched their\n",
    "brand new luxury SUV. And we're trying to see which of these users of the social network are \n",
    "going to buy this brand new SUV And the last column here tells If yes or no the user bought this \n",
    "SUV we are going to build a model that is going to predict if a user is going to buy or not the SUV based on two \n",
    "variables which are going to be the age and the estimated salary. So our matrix of feature is only going to be these two \n",
    "columns. We want to find some correlations between the age and the estimated salary of a user and his decision to\n",
    "purchase yes or no the SUV.\"\"\""
   ]
  },
  {
   "cell_type": "code",
   "execution_count": 2,
   "metadata": {},
   "outputs": [
    {
     "name": "stderr",
     "output_type": "stream",
     "text": [
      "C:\\ProgramData\\Anaconda3\\lib\\site-packages\\sklearn\\cross_validation.py:41: DeprecationWarning: This module was deprecated in version 0.18 in favor of the model_selection module into which all the refactored classes and functions are moved. Also note that the interface of the new CV iterators are different from that of this module. This module will be removed in 0.20.\n",
      "  \"This module will be removed in 0.20.\", DeprecationWarning)\n",
      "C:\\ProgramData\\Anaconda3\\lib\\site-packages\\sklearn\\utils\\validation.py:475: DataConversionWarning: Data with input dtype int64 was converted to float64 by StandardScaler.\n",
      "  warnings.warn(msg, DataConversionWarning)\n"
     ]
    }
   ],
   "source": [
    "#Step 1 | Data Pre-Processing\n",
    "#Importing the Libraries\n",
    "\n",
    "import numpy as np\n",
    "import matplotlib.pyplot as plt\n",
    "import pandas as pd\n",
    "\n",
    "#Importing the dataset\n",
    "\n",
    "\n",
    "\n",
    "dataset = pd.read_csv('Social_Network_Ads.csv')\n",
    "X = dataset.iloc[:, [2, 3]].values\n",
    "y = dataset.iloc[:, 4].values\n",
    "\n",
    "#Splitting the dataset into the Training set and Test set\n",
    "\n",
    "from sklearn.cross_validation import train_test_split\n",
    "X_train, X_test, y_train, y_test = train_test_split(X, y, test_size = 0.25, random_state = 0)\n",
    "\n",
    "#Feature Scaling\n",
    "\n",
    "from sklearn.preprocessing import StandardScaler\n",
    "sc = StandardScaler()\n",
    "X_train = sc.fit_transform(X_train)\n",
    "X_test = sc.transform(X_test)"
   ]
  },
  {
   "cell_type": "code",
   "execution_count": 3,
   "metadata": {},
   "outputs": [
    {
     "data": {
      "text/plain": [
       "LogisticRegression(C=1.0, class_weight=None, dual=False, fit_intercept=True,\n",
       "          intercept_scaling=1, max_iter=100, multi_class='ovr', n_jobs=1,\n",
       "          penalty='l2', random_state=None, solver='liblinear', tol=0.0001,\n",
       "          verbose=0, warm_start=False)"
      ]
     },
     "execution_count": 3,
     "metadata": {},
     "output_type": "execute_result"
    }
   ],
   "source": [
    "#Step 2 | Logistic Regression Model\n",
    "\n",
    "\"\"\"The library for this job which is going to be the linear model library and it is called linear because the \n",
    "logistic regression is a linear classifier which means that here since we're in two dimensions, our two categories of users\n",
    "are going to be separated by a straight line. Then import the logistic regression class. Next we will create a new object \n",
    "from this class which is going to be our classifier that we are going to fit on our training set.\"\"\"\n",
    "\n",
    "#Fitting Logistic Regression to the Training set\n",
    "\n",
    "from sklearn.linear_model import LogisticRegression\n",
    "classifier = LogisticRegression()\n",
    "classifier.fit(X_train, y_train)"
   ]
  },
  {
   "cell_type": "code",
   "execution_count": 4,
   "metadata": {},
   "outputs": [],
   "source": [
    "#Step 3 | Predection\n",
    "#Predicting the Test set results\n",
    "\n",
    "y_pred = classifier.predict(X_test)"
   ]
  },
  {
   "cell_type": "code",
   "execution_count": 5,
   "metadata": {},
   "outputs": [],
   "source": [
    "#Step 4 | Evaluating The Predection\n",
    "\n",
    "#We predicted the test results and now we will evaluate if our logistic regression model learned and understood correctly.\n",
    "#So this confusion matrix is going to contain the correct predictions that our model made on the set as well as the \n",
    "#incorrect predictions.\n",
    "\n",
    "#Making the Confusion Matrix\n",
    "\n",
    "from sklearn.metrics import confusion_matrix\n",
    "cm = confusion_matrix(y_test, y_pred)"
   ]
  },
  {
   "cell_type": "code",
   "execution_count": 7,
   "metadata": {},
   "outputs": [],
   "source": [
    "#Visualization"
   ]
  },
  {
   "cell_type": "code",
   "execution_count": null,
   "metadata": {},
   "outputs": [],
   "source": []
  }
 ],
 "metadata": {
  "kernelspec": {
   "display_name": "Python 3",
   "language": "python",
   "name": "python3"
  },
  "language_info": {
   "codemirror_mode": {
    "name": "ipython",
    "version": 3
   },
   "file_extension": ".py",
   "mimetype": "text/x-python",
   "name": "python",
   "nbconvert_exporter": "python",
   "pygments_lexer": "ipython3",
   "version": "3.6.5"
  }
 },
 "nbformat": 4,
 "nbformat_minor": 2
}
